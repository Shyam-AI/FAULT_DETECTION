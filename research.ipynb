{
 "cells": [
  {
   "cell_type": "code",
   "execution_count": 6,
   "metadata": {},
   "outputs": [
    {
     "name": "stdout",
     "output_type": "stream",
     "text": [
      "['pymongo==4.2.0', 'pandas', 'sklearn']\n"
     ]
    }
   ],
   "source": [
    "a_file = open(\"requirements.txt\")\n",
    "file_contents = a_file. read()\n",
    "contents_split = file_contents. splitlines()\n",
    "print(contents_split)\n",
    "a_file. close()"
   ]
  },
  {
   "cell_type": "markdown",
   "metadata": {},
   "source": [
    "Object Storage v/s File Storage"
   ]
  },
  {
   "cell_type": "markdown",
   "metadata": {},
   "source": [
    "https://cloudian.com/blog/object-storage-vs-file-storage/"
   ]
  },
  {
   "cell_type": "code",
   "execution_count": null,
   "metadata": {},
   "outputs": [],
   "source": []
  },
  {
   "cell_type": "markdown",
   "metadata": {},
   "source": []
  }
 ],
 "metadata": {
  "kernelspec": {
   "display_name": "Python 3.8.5 ('base')",
   "language": "python",
   "name": "python3"
  },
  "language_info": {
   "codemirror_mode": {
    "name": "ipython",
    "version": 3
   },
   "file_extension": ".py",
   "mimetype": "text/x-python",
   "name": "python",
   "nbconvert_exporter": "python",
   "pygments_lexer": "ipython3",
   "version": "3.8.5"
  },
  "orig_nbformat": 4,
  "vscode": {
   "interpreter": {
    "hash": "fe6f22945cfc871c9399bf7d9f19a00d7d184a1ba9bcdcec8f1d4899546bde82"
   }
  }
 },
 "nbformat": 4,
 "nbformat_minor": 2
}
